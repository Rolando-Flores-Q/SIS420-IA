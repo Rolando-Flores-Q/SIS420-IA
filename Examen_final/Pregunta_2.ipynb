{
  "nbformat": 4,
  "nbformat_minor": 0,
  "metadata": {
    "colab": {
      "provenance": []
    },
    "kernelspec": {
      "name": "python3",
      "display_name": "Python 3"
    },
    "language_info": {
      "name": "python"
    }
  },
  "cells": [
    {
      "cell_type": "code",
      "source": [
        "import random\n",
        "# utilizado para la manipulación de directorios y rutas\n",
        "import os\n",
        "\n",
        "# Cálculo científico y vectorial para python\n",
        "import numpy as np\n",
        "\n",
        "# Libreria para graficos\n",
        "from matplotlib import pyplot\n",
        "\n",
        "# Modulo de optimizacion en scipy\n",
        "from scipy import optimize\n",
        "\n",
        "# le dice a matplotlib que incruste gráficos en el cuaderno\n",
        "%matplotlib inline"
      ],
      "metadata": {
        "id": "HwY-8eOWeesL"
      },
      "execution_count": 1,
      "outputs": []
    },
    {
      "cell_type": "code",
      "source": [
        "class MLP:\n",
        "    def __init__(self, layers):\n",
        "        # el MLP es una lista de capas\n",
        "        self.layers = layers\n",
        "\n",
        "    def __call__(self, x):\n",
        "        # calculamos la salida del modelo aplicando\n",
        "        # cada capa de manera secuencial\n",
        "        for layer in self.layers:\n",
        "            x = layer(x)\n",
        "        return x"
      ],
      "metadata": {
        "id": "HefqynDcbIr7"
      },
      "execution_count": 2,
      "outputs": []
    },
    {
      "cell_type": "code",
      "source": [
        "class Layer():\n",
        "    def __init__(self):\n",
        "        self.params = []\n",
        "        self.grads = []\n",
        "\n",
        "    def __call__(self, x):\n",
        "        # por defecto, devolver los inputs\n",
        "        # cada capa hará algo diferente aquí\n",
        "        return x\n",
        "\n",
        "    def backward(self, grad):\n",
        "        # cada capa, calculará sus gradientes\n",
        "        # y los devolverá para las capas siguientes\n",
        "        return grad\n",
        "\n",
        "    def update(self, params):\n",
        "        # si hay parámetros, los actualizaremos\n",
        "        # con lo que nos de el optimizer\n",
        "        return"
      ],
      "metadata": {
        "id": "DvNLOzfobMTa"
      },
      "execution_count": 3,
      "outputs": []
    },
    {
      "cell_type": "code",
      "source": [
        "class Linear(Layer):\n",
        "    def __init__(self, d_in, d_out):\n",
        "        # pesos de la capa\n",
        "        self.w = np.random.normal(loc=0.0,\n",
        "                                  scale=np.sqrt(2/(d_in+d_out)),\n",
        "                                  size=(d_in, d_out))\n",
        "        self.b = np.zeros(d_out)\n",
        "\n",
        "    def __call__(self, x):\n",
        "        self.x = x\n",
        "        self.params = [self.w, self.b]\n",
        "        # salida del preceptrón\n",
        "        return np.dot(x, self.w) + self.b\n",
        "\n",
        "    def backward(self, grad_output):\n",
        "        # gradientes para la capa siguiente (BACKPROP)\n",
        "        grad = np.dot(grad_output, self.w.T)\n",
        "        self.grad_w = np.dot(self.x.T, grad_output)\n",
        "        # gradientes para actualizar pesos\n",
        "        self.grad_b = grad_output.mean(axis=0)*self.x.shape[0]\n",
        "        self.grads = [self.grad_w, self.grad_b]\n",
        "        return grad\n",
        "\n",
        "    def update(self, params):\n",
        "        self.w, self.b = params"
      ],
      "metadata": {
        "id": "moBPmdw5bY24"
      },
      "execution_count": 4,
      "outputs": []
    },
    {
      "cell_type": "code",
      "source": [
        "#funciones de activacion\n",
        "class ReLU(Layer):\n",
        "    def __call__(self, x):\n",
        "        self.x = x\n",
        "        return np.maximum(0, x)\n",
        "\n",
        "    def backward(self, grad_output):\n",
        "        grad = self.x > 0\n",
        "        return grad_output*grad\n",
        "\n",
        "def sigmoid(x):\n",
        "  return 1 / (1 + np.exp(-x))\n",
        "\n",
        "def softmax(x):\n",
        "    return np.exp(x) / np.exp(x).sum(axis=-1,keepdims=True)\n",
        "\n",
        "class Sigmoid(Layer):\n",
        "    def __call__(self, x):\n",
        "        self.x = x\n",
        "        return sigmoid(x)\n",
        "\n",
        "    def backward(self, grad_output):\n",
        "        grad = sigmoid(self.x)*(1 - sigmoid(self.x))\n",
        "        return grad_output*grad"
      ],
      "metadata": {
        "id": "zcQO_yZSeMOw"
      },
      "execution_count": 5,
      "outputs": []
    },
    {
      "cell_type": "code",
      "source": [
        "#Optimizador, stocastic greadent descent\n",
        "class SGD():\n",
        "    def __init__(self, net, lr):\n",
        "        self.net = net\n",
        "        self.lr = lr\n",
        "\n",
        "    def update(self):\n",
        "        for layer in self.net.layers:\n",
        "            layer.update([\n",
        "                params - self.lr*grads\n",
        "                for params, grads in zip(layer.params, layer.grads)\n",
        "            ])"
      ],
      "metadata": {
        "id": "f54Br-WFeQEh"
      },
      "execution_count": 6,
      "outputs": []
    },
    {
      "cell_type": "code",
      "source": [
        "class Loss():\n",
        "    def __init__(self, net):\n",
        "        self.net = net\n",
        "\n",
        "    def backward(self):\n",
        "        # derivada de la loss function con respecto\n",
        "        # a la salida del MLP\n",
        "        grad = self.grad_loss()\n",
        "        # BACKPROPAGATION\n",
        "        for layer in reversed(self.net.layers):\n",
        "            grad = layer.backward(grad)\n",
        "\n",
        "class MSE(Loss):\n",
        "    def __call__(self, output, target):\n",
        "        self.output, self.target = output, target.reshape(output.shape)\n",
        "        loss = np.mean((self.output - self.target)**2)\n",
        "        return loss.mean()\n",
        "\n",
        "    def grad_loss(self):\n",
        "        return self.output -  self.target\n",
        "\n",
        "class BCE(Loss):\n",
        "    def __call__(self, output, target):\n",
        "        self.output, self.target = output, target.reshape(output.shape)\n",
        "        loss = - np.mean(self.target*np.log(self.output) - (1 - self.target)*np.log(1 - self.output))\n",
        "        return loss.mean()\n",
        "\n",
        "    def grad_loss(self):\n",
        "        return self.output -  self.target\n",
        "\n",
        "class CrossEntropy(Loss):\n",
        "    def __call__(self, output, target):\n",
        "        self.output, self.target = output, target\n",
        "        logits = output[np.arange(len(output)), target]\n",
        "        loss = - logits + np.log(np.sum(np.exp(output), axis=-1))\n",
        "        loss = loss.mean()\n",
        "        return loss\n",
        "\n",
        "    def grad_loss(self):\n",
        "        answers = np.zeros_like(self.output)\n",
        "        answers[np.arange(len(self.output)), self.target] = 1\n",
        "        return (- answers + softmax(self.output)) / self.output.shape[0]"
      ],
      "metadata": {
        "id": "IeR9a9Q_eSkd"
      },
      "execution_count": 7,
      "outputs": []
    },
    {
      "cell_type": "code",
      "source": [
        "import pandas as pd\n",
        "from sklearn.preprocessing import LabelEncoder\n",
        "from datetime import datetime\n",
        "\n",
        "#Carga de dataset\n",
        "data = pd.read_csv('/content/smoking.csv')"
      ],
      "metadata": {
        "id": "pVmLHOJjwjKv"
      },
      "execution_count": 8,
      "outputs": []
    },
    {
      "cell_type": "code",
      "source": [
        "data.info()"
      ],
      "metadata": {
        "colab": {
          "base_uri": "https://localhost:8080/"
        },
        "id": "BSYUpd4w90cM",
        "outputId": "f6aef372-4e36-40bc-e777-208c1e64b5f2"
      },
      "execution_count": 9,
      "outputs": [
        {
          "output_type": "stream",
          "name": "stdout",
          "text": [
            "<class 'pandas.core.frame.DataFrame'>\n",
            "RangeIndex: 55692 entries, 0 to 55691\n",
            "Data columns (total 27 columns):\n",
            " #   Column               Non-Null Count  Dtype  \n",
            "---  ------               --------------  -----  \n",
            " 0   ID                   55692 non-null  int64  \n",
            " 1   gender               55692 non-null  object \n",
            " 2   age                  55692 non-null  int64  \n",
            " 3   height(cm)           55692 non-null  int64  \n",
            " 4   weight(kg)           55692 non-null  int64  \n",
            " 5   waist(cm)            55692 non-null  float64\n",
            " 6   eyesight(left)       55692 non-null  float64\n",
            " 7   eyesight(right)      55692 non-null  float64\n",
            " 8   hearing(left)        55692 non-null  float64\n",
            " 9   hearing(right)       55692 non-null  float64\n",
            " 10  systolic             55692 non-null  float64\n",
            " 11  relaxation           55692 non-null  float64\n",
            " 12  fasting blood sugar  55692 non-null  float64\n",
            " 13  Cholesterol          55692 non-null  float64\n",
            " 14  triglyceride         55692 non-null  float64\n",
            " 15  HDL                  55692 non-null  float64\n",
            " 16  LDL                  55692 non-null  float64\n",
            " 17  hemoglobin           55692 non-null  float64\n",
            " 18  Urine protein        55692 non-null  float64\n",
            " 19  serum creatinine     55692 non-null  float64\n",
            " 20  AST                  55692 non-null  float64\n",
            " 21  ALT                  55692 non-null  float64\n",
            " 22  Gtp                  55692 non-null  float64\n",
            " 23  oral                 55692 non-null  object \n",
            " 24  dental caries        55692 non-null  int64  \n",
            " 25  tartar               55692 non-null  object \n",
            " 26  smoking              55692 non-null  int64  \n",
            "dtypes: float64(18), int64(6), object(3)\n",
            "memory usage: 11.5+ MB\n"
          ]
        }
      ]
    },
    {
      "cell_type": "code",
      "source": [
        "columnas_categoricas = data.select_dtypes(include=['object']).columns\n",
        "columnas_fechas = data.select_dtypes(include=['datetime64']).columns\n",
        "\n",
        "#Procesamiento de frases\n",
        "for columna in columnas_categoricas:\n",
        "  le = LabelEncoder()\n",
        "  data[columna] = le.fit_transform(data[columna])\n",
        "\n",
        "#Fechas a numeros\n",
        "for columna in columnas_fechas:\n",
        "  data[columna] = pd.to_numeric(data[columna].map(datetime.timestamp))"
      ],
      "metadata": {
        "id": "Fws0_jBp9-ac"
      },
      "execution_count": 10,
      "outputs": []
    },
    {
      "cell_type": "code",
      "source": [
        "data.info()"
      ],
      "metadata": {
        "colab": {
          "base_uri": "https://localhost:8080/"
        },
        "id": "9zve3lxq-GbY",
        "outputId": "d540448c-7e7c-40a4-e3cc-892737193657"
      },
      "execution_count": 11,
      "outputs": [
        {
          "output_type": "stream",
          "name": "stdout",
          "text": [
            "<class 'pandas.core.frame.DataFrame'>\n",
            "RangeIndex: 55692 entries, 0 to 55691\n",
            "Data columns (total 27 columns):\n",
            " #   Column               Non-Null Count  Dtype  \n",
            "---  ------               --------------  -----  \n",
            " 0   ID                   55692 non-null  int64  \n",
            " 1   gender               55692 non-null  int64  \n",
            " 2   age                  55692 non-null  int64  \n",
            " 3   height(cm)           55692 non-null  int64  \n",
            " 4   weight(kg)           55692 non-null  int64  \n",
            " 5   waist(cm)            55692 non-null  float64\n",
            " 6   eyesight(left)       55692 non-null  float64\n",
            " 7   eyesight(right)      55692 non-null  float64\n",
            " 8   hearing(left)        55692 non-null  float64\n",
            " 9   hearing(right)       55692 non-null  float64\n",
            " 10  systolic             55692 non-null  float64\n",
            " 11  relaxation           55692 non-null  float64\n",
            " 12  fasting blood sugar  55692 non-null  float64\n",
            " 13  Cholesterol          55692 non-null  float64\n",
            " 14  triglyceride         55692 non-null  float64\n",
            " 15  HDL                  55692 non-null  float64\n",
            " 16  LDL                  55692 non-null  float64\n",
            " 17  hemoglobin           55692 non-null  float64\n",
            " 18  Urine protein        55692 non-null  float64\n",
            " 19  serum creatinine     55692 non-null  float64\n",
            " 20  AST                  55692 non-null  float64\n",
            " 21  ALT                  55692 non-null  float64\n",
            " 22  Gtp                  55692 non-null  float64\n",
            " 23  oral                 55692 non-null  int64  \n",
            " 24  dental caries        55692 non-null  int64  \n",
            " 25  tartar               55692 non-null  int64  \n",
            " 26  smoking              55692 non-null  int64  \n",
            "dtypes: float64(18), int64(9)\n",
            "memory usage: 11.5 MB\n"
          ]
        }
      ]
    },
    {
      "cell_type": "code",
      "source": [
        "columnas_eiliminar = ['ID']\n",
        "data = data.drop(columnas_eiliminar, axis=1)"
      ],
      "metadata": {
        "id": "8FuEVLit-Sno"
      },
      "execution_count": 12,
      "outputs": []
    },
    {
      "cell_type": "code",
      "source": [
        "# data.info()"
      ],
      "metadata": {
        "id": "H0iPPODU-emU"
      },
      "execution_count": 13,
      "outputs": []
    },
    {
      "cell_type": "code",
      "source": [
        "print(data)"
      ],
      "metadata": {
        "colab": {
          "base_uri": "https://localhost:8080/"
        },
        "id": "8XVxUoEV-v4o",
        "outputId": "4fd0517c-d398-4273-df62-0b8f328548ec"
      },
      "execution_count": 14,
      "outputs": [
        {
          "output_type": "stream",
          "name": "stdout",
          "text": [
            "       gender  age  height(cm)  weight(kg)  waist(cm)  eyesight(left)  \\\n",
            "0           0   40         155          60       81.3             1.2   \n",
            "1           0   40         160          60       81.0             0.8   \n",
            "2           1   55         170          60       80.0             0.8   \n",
            "3           1   40         165          70       88.0             1.5   \n",
            "4           0   40         155          60       86.0             1.0   \n",
            "...       ...  ...         ...         ...        ...             ...   \n",
            "55687       0   40         170          65       75.0             0.9   \n",
            "55688       0   45         160          50       70.0             1.2   \n",
            "55689       0   55         160          50       68.5             1.0   \n",
            "55690       1   60         165          60       78.0             0.8   \n",
            "55691       1   55         160          65       85.0             0.9   \n",
            "\n",
            "       eyesight(right)  hearing(left)  hearing(right)  systolic  ...  \\\n",
            "0                  1.0            1.0             1.0     114.0  ...   \n",
            "1                  0.6            1.0             1.0     119.0  ...   \n",
            "2                  0.8            1.0             1.0     138.0  ...   \n",
            "3                  1.5            1.0             1.0     100.0  ...   \n",
            "4                  1.0            1.0             1.0     120.0  ...   \n",
            "...                ...            ...             ...       ...  ...   \n",
            "55687              0.9            1.0             1.0     110.0  ...   \n",
            "55688              1.2            1.0             1.0     101.0  ...   \n",
            "55689              1.2            1.0             1.0     117.0  ...   \n",
            "55690              1.0            1.0             1.0     133.0  ...   \n",
            "55691              0.7            1.0             1.0     124.0  ...   \n",
            "\n",
            "       hemoglobin  Urine protein  serum creatinine   AST   ALT   Gtp  oral  \\\n",
            "0            12.9            1.0               0.7  18.0  19.0  27.0     0   \n",
            "1            12.7            1.0               0.6  22.0  19.0  18.0     0   \n",
            "2            15.8            1.0               1.0  21.0  16.0  22.0     0   \n",
            "3            14.7            1.0               1.0  19.0  26.0  18.0     0   \n",
            "4            12.5            1.0               0.6  16.0  14.0  22.0     0   \n",
            "...           ...            ...               ...   ...   ...   ...   ...   \n",
            "55687        12.3            1.0               0.6  14.0   7.0  10.0     0   \n",
            "55688        14.0            1.0               0.9  20.0  12.0  14.0     0   \n",
            "55689        12.4            1.0               0.5  17.0  11.0  12.0     0   \n",
            "55690        14.4            1.0               0.7  20.0  19.0  18.0     0   \n",
            "55691        15.0            1.0               0.8  26.0  29.0  41.0     0   \n",
            "\n",
            "       dental caries  tartar  smoking  \n",
            "0                  0       1        0  \n",
            "1                  0       1        0  \n",
            "2                  0       0        1  \n",
            "3                  0       1        0  \n",
            "4                  0       0        0  \n",
            "...              ...     ...      ...  \n",
            "55687              1       1        0  \n",
            "55688              0       1        0  \n",
            "55689              0       0        0  \n",
            "55690              0       0        0  \n",
            "55691              0       1        1  \n",
            "\n",
            "[55692 rows x 26 columns]\n"
          ]
        }
      ]
    },
    {
      "cell_type": "code",
      "source": [
        "x = data.iloc[:, :25]\n",
        "y = data.iloc[:, 25]\n",
        "m = y.size\n",
        "print(x.shape)\n",
        "print(y.shape)\n",
        "print(x)\n",
        "print('---'*20)\n",
        "print(y)"
      ],
      "metadata": {
        "colab": {
          "base_uri": "https://localhost:8080/"
        },
        "id": "nVwxWmWY-jt0",
        "outputId": "f076c1ad-91b4-4598-90c6-34481f810f2c"
      },
      "execution_count": 15,
      "outputs": [
        {
          "output_type": "stream",
          "name": "stdout",
          "text": [
            "(55692, 25)\n",
            "(55692,)\n",
            "       gender  age  height(cm)  weight(kg)  waist(cm)  eyesight(left)  \\\n",
            "0           0   40         155          60       81.3             1.2   \n",
            "1           0   40         160          60       81.0             0.8   \n",
            "2           1   55         170          60       80.0             0.8   \n",
            "3           1   40         165          70       88.0             1.5   \n",
            "4           0   40         155          60       86.0             1.0   \n",
            "...       ...  ...         ...         ...        ...             ...   \n",
            "55687       0   40         170          65       75.0             0.9   \n",
            "55688       0   45         160          50       70.0             1.2   \n",
            "55689       0   55         160          50       68.5             1.0   \n",
            "55690       1   60         165          60       78.0             0.8   \n",
            "55691       1   55         160          65       85.0             0.9   \n",
            "\n",
            "       eyesight(right)  hearing(left)  hearing(right)  systolic  ...    LDL  \\\n",
            "0                  1.0            1.0             1.0     114.0  ...  126.0   \n",
            "1                  0.6            1.0             1.0     119.0  ...  127.0   \n",
            "2                  0.8            1.0             1.0     138.0  ...  151.0   \n",
            "3                  1.5            1.0             1.0     100.0  ...  226.0   \n",
            "4                  1.0            1.0             1.0     120.0  ...  107.0   \n",
            "...                ...            ...             ...       ...  ...    ...   \n",
            "55687              0.9            1.0             1.0     110.0  ...  118.0   \n",
            "55688              1.2            1.0             1.0     101.0  ...   79.0   \n",
            "55689              1.2            1.0             1.0     117.0  ...   63.0   \n",
            "55690              1.0            1.0             1.0     133.0  ...  146.0   \n",
            "55691              0.7            1.0             1.0     124.0  ...  150.0   \n",
            "\n",
            "       hemoglobin  Urine protein  serum creatinine   AST   ALT   Gtp  oral  \\\n",
            "0            12.9            1.0               0.7  18.0  19.0  27.0     0   \n",
            "1            12.7            1.0               0.6  22.0  19.0  18.0     0   \n",
            "2            15.8            1.0               1.0  21.0  16.0  22.0     0   \n",
            "3            14.7            1.0               1.0  19.0  26.0  18.0     0   \n",
            "4            12.5            1.0               0.6  16.0  14.0  22.0     0   \n",
            "...           ...            ...               ...   ...   ...   ...   ...   \n",
            "55687        12.3            1.0               0.6  14.0   7.0  10.0     0   \n",
            "55688        14.0            1.0               0.9  20.0  12.0  14.0     0   \n",
            "55689        12.4            1.0               0.5  17.0  11.0  12.0     0   \n",
            "55690        14.4            1.0               0.7  20.0  19.0  18.0     0   \n",
            "55691        15.0            1.0               0.8  26.0  29.0  41.0     0   \n",
            "\n",
            "       dental caries  tartar  \n",
            "0                  0       1  \n",
            "1                  0       1  \n",
            "2                  0       0  \n",
            "3                  0       1  \n",
            "4                  0       0  \n",
            "...              ...     ...  \n",
            "55687              1       1  \n",
            "55688              0       1  \n",
            "55689              0       0  \n",
            "55690              0       0  \n",
            "55691              0       1  \n",
            "\n",
            "[55692 rows x 25 columns]\n",
            "------------------------------------------------------------\n",
            "0        0\n",
            "1        0\n",
            "2        1\n",
            "3        0\n",
            "4        0\n",
            "        ..\n",
            "55687    0\n",
            "55688    0\n",
            "55689    0\n",
            "55690    0\n",
            "55691    1\n",
            "Name: smoking, Length: 55692, dtype: int64\n"
          ]
        }
      ]
    },
    {
      "cell_type": "code",
      "source": [
        "# Crea un nuevo DataFrame con los datos modificados\n",
        "nuevo_data = data.copy()\n",
        "# Guardar el dataset actualizado en un nuevo archivo\n",
        "nuevo_data.to_csv('smoking2.csv', index=False)"
      ],
      "metadata": {
        "id": "YywScjKO-5Qd"
      },
      "execution_count": 16,
      "outputs": []
    },
    {
      "cell_type": "code",
      "source": [
        "data = np.loadtxt(\"/content/smoking2.csv\", delimiter=',',skiprows=1)\n",
        "# print(data)\n",
        "x, y = data[:, :25].astype(int), data[:, 0].astype(int)\n",
        "x = x.reshape(len(x),25)\n",
        "print(x.shape)\n",
        "print(y.shape)"
      ],
      "metadata": {
        "colab": {
          "base_uri": "https://localhost:8080/"
        },
        "id": "SwtI5lnoIVta",
        "outputId": "6e933fda-c309-45c4-9d2c-62994433e903"
      },
      "execution_count": 18,
      "outputs": [
        {
          "output_type": "stream",
          "name": "stdout",
          "text": [
            "(55692, 25)\n",
            "(55692,)\n"
          ]
        }
      ]
    },
    {
      "cell_type": "code",
      "source": [
        "x_train, x_test, y_train, y_test = x[:800] , x[800:] , y[:800].astype(np.int64), y[800:].astype(np.int64)\n",
        "x_train.shape , x_test.shape\n",
        "\n",
        "y_train.shape , y_test.shape"
      ],
      "metadata": {
        "colab": {
          "base_uri": "https://localhost:8080/"
        },
        "id": "c8U7ZdYDF1O1",
        "outputId": "c9dae42a-e8f9-4fe6-f144-8cc49fa427a7"
      },
      "execution_count": 20,
      "outputs": [
        {
          "output_type": "execute_result",
          "data": {
            "text/plain": [
              "((800,), (54892,))"
            ]
          },
          "metadata": {},
          "execution_count": 20
        }
      ]
    },
    {
      "cell_type": "code",
      "source": [
        "def relu(x):\n",
        "  return np.maximum(0, x)\n",
        "\n",
        "def reluPrime(x):\n",
        "  return x > 0"
      ],
      "metadata": {
        "id": "H4-KWz6Tydil"
      },
      "execution_count": 21,
      "outputs": []
    },
    {
      "cell_type": "code",
      "source": [
        "def linear(x):\n",
        "    return x\n",
        "\n",
        "def sigmoid(x):\n",
        "  return 1 / (1 + np.exp(-x))\n",
        "\n",
        "def softmax(x):\n",
        "    return np.exp(x) / np.exp(x).sum(axis=-1,keepdims=True)"
      ],
      "metadata": {
        "id": "hl4g6CDzyfXr"
      },
      "execution_count": 22,
      "outputs": []
    },
    {
      "cell_type": "code",
      "source": [
        "# Mean Square Error -> usada para regresión (con activación lineal)\n",
        "def mse(y, y_hat):\n",
        "    return np.mean((y_hat - y.reshape(y_hat.shape))**2)\n",
        "\n",
        "# Binary Cross Entropy -> usada para clasificación binaria (con sigmoid)\n",
        "def bce(y, y_hat):\n",
        "    return - np.mean(y.reshape(y_hat.shape)*np.log(y_hat) - (1 - y.reshape(y_hat.shape))*np.log(1 - y_hat))\n",
        "\n",
        "# Cross Entropy (aplica softmax + cross entropy de manera estable) -> usada para clasificación multiclase\n",
        "def crossentropy(y, y_hat):\n",
        "    logits = y_hat[np.arange(len(y_hat)),y]\n",
        "    entropy = - logits + np.log(np.sum(np.exp(y_hat),axis=-1))\n",
        "    return entropy.mean()"
      ],
      "metadata": {
        "id": "K0sDIWzuyhab"
      },
      "execution_count": 23,
      "outputs": []
    },
    {
      "cell_type": "code",
      "source": [
        "def grad_mse(y, y_hat):\n",
        "    return y_hat - y.reshape(y_hat.shape)\n",
        "\n",
        "def grad_bce(y, y_hat):\n",
        "    return y_hat - y.reshape(y_hat.shape)\n",
        "\n",
        "def grad_crossentropy(y, y_hat):\n",
        "    answers = np.zeros_like(y_hat)\n",
        "    answers[np.arange(len(y_hat)),y] = 1\n",
        "    return (- answers + softmax(y_hat)) / y_hat.shape[0]"
      ],
      "metadata": {
        "id": "FjdNH1ZuyojF"
      },
      "execution_count": 24,
      "outputs": []
    },
    {
      "cell_type": "code",
      "source": [
        "# clase base MLP\n",
        "\n",
        "class MLP():\n",
        "  def __init__(self, D_in, H, D_out, loss, grad_loss, activation):\n",
        "    # pesos de la capa 1\n",
        "    self.w1, self.b1 = np.random.normal(loc=0.0,\n",
        "                                  scale=np.sqrt(2/(D_in+H)),\n",
        "                                  size=(D_in, H)), np.zeros(H)\n",
        "    # pesos de la capa 2\n",
        "    self.w2, self.b2 = np.random.normal(loc=0.0,\n",
        "                                  scale=np.sqrt(2/(H+D_out)),\n",
        "                                  size=(H, D_out)), np.zeros(D_out)\n",
        "    self.ws = []\n",
        "    # función de pérdida y derivada\n",
        "    self.loss = loss\n",
        "    self.grad_loss = grad_loss\n",
        "    # función de activación\n",
        "    self.activation = activation\n",
        "\n",
        "  def __call__(self, x):\n",
        "    # salida de la capa 1\n",
        "    self.h_pre = np.dot(x, self.w1) + self.b1\n",
        "    self.h = relu(self.h_pre)\n",
        "    # salida del MLP\n",
        "    y_hat = np.dot(self.h, self.w2) + self.b2\n",
        "    return self.activation(y_hat)\n",
        "\n",
        "  def fit(self, X, Y, epochs = 100, lr = 0.001, batch_size=None, verbose=True, log_each=1):\n",
        "    batch_size = len(X) if batch_size == None else batch_size\n",
        "    batches = len(X) // batch_size\n",
        "    l = []\n",
        "    for e in range(1,epochs+1):\n",
        "        # Mini-Batch Gradient Descent\n",
        "        _l = []\n",
        "        for b in range(batches):\n",
        "            # batch de datos\n",
        "            x = X[b*batch_size:(b+1)*batch_size]\n",
        "            y = Y[b*batch_size:(b+1)*batch_size]\n",
        "            # salida del perceptrón\n",
        "            y_pred = self(x)\n",
        "            # función de pérdida\n",
        "            loss = self.loss(y, y_pred)\n",
        "            _l.append(loss)\n",
        "            # Backprop\n",
        "            dldy = self.grad_loss(y, y_pred)\n",
        "            grad_w2 = np.dot(self.h.T, dldy)\n",
        "            grad_b2 = dldy.mean(axis=0)\n",
        "            dldh = np.dot(dldy, self.w2.T)*reluPrime(self.h_pre)\n",
        "            grad_w1 = np.dot(x.T, dldh)\n",
        "            grad_b1 = dldh.mean(axis=0)\n",
        "            # Update (GD)\n",
        "            self.w1 = self.w1 - lr * grad_w1\n",
        "            self.b1 = self.b1 - lr * grad_b1\n",
        "            self.w2 = self.w2 - lr * grad_w2\n",
        "            self.b2 = self.b2 - lr * grad_b2\n",
        "        l.append(np.mean(_l))\n",
        "        # guardamos pesos intermedios para visualización\n",
        "        self.ws.append((\n",
        "            self.w1.copy(),\n",
        "            self.b1.copy(),\n",
        "            self.w2.copy(),\n",
        "            self.b2.copy()\n",
        "        ))\n",
        "        if verbose and not e % log_each:\n",
        "            print(f'Epoch: {e}/{epochs}, Loss: {np.mean(l):.5f}')\n",
        "\n",
        "  def predict(self, ws, x):\n",
        "    w1, b1, w2, b2 = ws\n",
        "    h = relu(np.dot(x, w1) + b1)\n",
        "    y_hat = np.dot(h, w2) + b2\n",
        "    return self.activation(y_hat)"
      ],
      "metadata": {
        "id": "IYrx4VPKyqjd"
      },
      "execution_count": 25,
      "outputs": []
    },
    {
      "cell_type": "code",
      "source": [
        "# MLP para regresión\n",
        "class MLPRegression(MLP):\n",
        "    def __init__(self, D_in, H, D_out):\n",
        "        super().__init__(D_in, H, D_out, mse, grad_mse, linear)\n",
        "\n",
        "# MLP para clasificación binaria\n",
        "class MLPBinaryClassification(MLP):\n",
        "    def __init__(self, D_in, H, D_out):\n",
        "        super().__init__(D_in, H, D_out, bce, grad_bce, sigmoid)\n",
        "\n",
        "# MLP para clasificación multiclase\n",
        "class MLPClassification(MLP):\n",
        "    def __init__(self, D_in, H, D_out):\n",
        "        super().__init__(D_in, H, D_out, crossentropy, grad_crossentropy, linear)"
      ],
      "metadata": {
        "id": "wwRNl4-N_0GE"
      },
      "execution_count": 26,
      "outputs": []
    },
    {
      "cell_type": "code",
      "source": [
        "model = MLPBinaryClassification(D_in=25, H=2, D_out=1)\n",
        "epochs, lr = 60, 0.04\n",
        "\n",
        "# normalización datos\n",
        "x_mean = np.mean(x_train)\n",
        "x_std = np.std(x_train)\n",
        "x_std = np.nan_to_num(x_std, nan=1.0)\n",
        "\n",
        "\n",
        "# Calcula x_norm\n",
        "x_norm = (x_train - x_mean) / x_std\n",
        "\n",
        "model.fit(x_norm, y_train, epochs, lr, batch_size=1, log_each=10)"
      ],
      "metadata": {
        "colab": {
          "base_uri": "https://localhost:8080/"
        },
        "id": "N7yhQpte_2B-",
        "outputId": "cf3b4c2e-1c88-428d-ed2e-8fa702df4ae6"
      },
      "execution_count": 66,
      "outputs": [
        {
          "output_type": "stream",
          "name": "stdout",
          "text": [
            "Epoch: 10/60, Loss: -0.06444\n",
            "Epoch: 20/60, Loss: -0.06579\n",
            "Epoch: 30/60, Loss: -0.06624\n",
            "Epoch: 40/60, Loss: -0.06647\n",
            "Epoch: 50/60, Loss: -0.06660\n",
            "Epoch: 60/60, Loss: -0.06669\n"
          ]
        }
      ]
    },
    {
      "cell_type": "code",
      "source": [
        "# últimos pesos encontrados\n",
        "\n",
        "w = model.ws[-1]\n",
        "w"
      ],
      "metadata": {
        "colab": {
          "base_uri": "https://localhost:8080/"
        },
        "id": "zY_FGDTeA4jL",
        "outputId": "290ebe4d-6632-4f34-940a-5643577704ef"
      },
      "execution_count": 67,
      "outputs": [
        {
          "output_type": "execute_result",
          "data": {
            "text/plain": [
              "(array([[ 0.04400106, -0.20151279],\n",
              "        [-0.35429604, -0.27128709],\n",
              "        [ 0.06958799, -0.14705891],\n",
              "        [-0.0161799 ,  0.06227872],\n",
              "        [ 0.1940286 , -0.21758662],\n",
              "        [ 0.1647537 , -0.00374944],\n",
              "        [-0.24959116,  0.02432774],\n",
              "        [-0.02139168,  0.18908866],\n",
              "        [ 0.07153555,  0.43891658],\n",
              "        [-0.27128323, -0.39182419],\n",
              "        [-0.24059502,  0.09181556],\n",
              "        [ 0.25161644, -0.36458946],\n",
              "        [-0.37574668,  0.13236993],\n",
              "        [-0.38014667, -0.00923061],\n",
              "        [-0.06929962,  0.53501529],\n",
              "        [-0.61324315,  0.33436185],\n",
              "        [-0.30254587,  0.53141198],\n",
              "        [ 0.08174561,  0.20702509],\n",
              "        [-0.5032847 , -0.03355023],\n",
              "        [ 0.50677931, -0.28064337],\n",
              "        [-0.37088008,  0.43722063],\n",
              "        [-0.20169382,  0.08341795],\n",
              "        [ 0.19653769, -0.12915138],\n",
              "        [ 0.34405547, -0.32260929],\n",
              "        [ 0.05122259,  0.27120063]]),\n",
              " array([-0.11441021, -0.03861926]),\n",
              " array([[-1.70735352],\n",
              "        [-0.74384358]]),\n",
              " array([0.43389382]))"
            ]
          },
          "metadata": {},
          "execution_count": 67
        }
      ]
    },
    {
      "cell_type": "code",
      "source": [
        "print(\"Primeros 5 datos de entrada de prueba (X_test):\")\n",
        "print(x_test[:5])\n",
        "\n",
        "print(\"Primeras 5 etiquetas de prueba (y_test):\")\n",
        "print(y_test[:5])"
      ],
      "metadata": {
        "colab": {
          "base_uri": "https://localhost:8080/"
        },
        "id": "P9tkGNwqBOpg",
        "outputId": "febcd75d-7a85-4d62-b8f4-f0d849f4767d"
      },
      "execution_count": 68,
      "outputs": [
        {
          "output_type": "stream",
          "name": "stdout",
          "text": [
            "Primeros 5 datos de entrada de prueba (X_test):\n",
            "[[  1  30 165  65  84   0   1   1   1 100  70  88 159  98  78  61  15   1\n",
            "    0  30  24  28   0   0   1]\n",
            " [  1  35 165  75  94   1   1   1   1 120  80  98 208 247  53 106  17   3\n",
            "    1  35  49 141   0   0   0]\n",
            " [  1  40 180  65  77   1   1   1   1 126  76  92 132  80  62  54  14   1\n",
            "    0  19  18  87   0   0   1]\n",
            " [  0  60 155  60  78   0   0   1   1 132  82  90 178 138  46 103  12   1\n",
            "    0  37  20  22   0   0   1]\n",
            " [  0  70 145  55  88   0   0   1   1 129  74 147 149 170  52  63  11   1\n",
            "    1  17  14  15   0   0   0]]\n",
            "Primeras 5 etiquetas de prueba (y_test):\n",
            "[1 1 1 0 0]\n"
          ]
        }
      ]
    },
    {
      "cell_type": "code",
      "source": [
        "# nuevo punto\n",
        "x_new = x_test\n",
        "X_new = [0, 70, 145, 55, 88, 0, 0, 1, 1, 129, 74, 147, 149, 170, 52, 63, 11, 1, 1, 17, 14, 15, 0, 0, 0]\n",
        "y_pred = model.predict(w, X_new)\n",
        "y_pred"
      ],
      "metadata": {
        "colab": {
          "base_uri": "https://localhost:8080/"
        },
        "id": "f6SwazU9A646",
        "outputId": "a23a6a76-d2c8-485f-dda8-60fb04a90f8b"
      },
      "execution_count": 69,
      "outputs": [
        {
          "output_type": "execute_result",
          "data": {
            "text/plain": [
              "array([0.60680309])"
            ]
          },
          "metadata": {},
          "execution_count": 69
        }
      ]
    },
    {
      "cell_type": "code",
      "source": [
        "def evaluate(perceptron, x, t = 0.5):\n",
        "    w = perceptron.ws[-1]\n",
        "    x = np.c_[np.ones(len(x)), x]\n",
        "    y = perceptron(w, x)\n",
        "    return (y > t).astype(np.int64)"
      ],
      "metadata": {
        "id": "TdvbARh9y55o"
      },
      "execution_count": 65,
      "outputs": []
    },
    {
      "cell_type": "code",
      "source": [
        "def accuracy(y_pred, y):\n",
        "    return np.sum(y_pred == y) / len(y)"
      ],
      "metadata": {
        "id": "lnMrjov0y7b7"
      },
      "execution_count": null,
      "outputs": []
    }
  ]
}